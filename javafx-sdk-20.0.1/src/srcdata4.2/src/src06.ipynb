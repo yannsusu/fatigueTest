{
 "cells": [
  {
   "cell_type": "code",
   "execution_count": null,
   "metadata": {},
   "outputs": [],
   "source": [
    "import pandas as pd\n",
    "\n",
    "from sklearn import tree\n",
    "from sklearn import metrics\n",
    "from sklearn.preprocessing import OneHotEncoder\n",
    "\n",
    "import graphviz \n",
    "\n",
    "from IPython.core.display import HTML\n",
    "import util\n",
    "\n",
    "\n",
    "\n",
    "display(HTML(\"<style>pre { white-space: pre !important; }</style>\")),\n",
    "util.set_default_pandas_options()"
   ]
  },
  {
   "cell_type": "code",
   "execution_count": null,
   "metadata": {},
   "outputs": [],
   "source": [
    "df = pd.read_csv('../data/loan-risk.csv', index_col=0)\n",
    "df"
   ]
  },
  {
   "cell_type": "code",
   "execution_count": null,
   "metadata": {},
   "outputs": [],
   "source": [
    "# one hot encoding or one-of-K scheme\n",
    "df['CreditRatingLow'] = 0\n",
    "df['CreditRatingModerate'] = 0\n",
    "df['CreditRatingHigh'] = 0\n",
    "\n",
    "for i in range(len(df)):\n",
    "    if df.loc[i,'CreditRating'] == 'Low':\n",
    "        df.loc[i,'CreditRatingLow'] = 1\n",
    "    elif df.loc[i,'CreditRating'] == 'Moderate':\n",
    "        df.loc[i,'CreditRatingModerate'] = 1\n",
    "    elif df.loc[i,'CreditRating'] == 'High':\n",
    "        df.loc[i,'CreditRatingHigh'] = 1    \n",
    "\n",
    "df"
   ]
  },
  {
   "cell_type": "code",
   "execution_count": null,
   "metadata": {},
   "outputs": [],
   "source": [
    "# alternative approach of performing one hot encoding in Pandas\n",
    "pd.get_dummies(df['CreditRating'], prefix='CreditRating')"
   ]
  },
  {
   "cell_type": "code",
   "execution_count": null,
   "metadata": {},
   "outputs": [],
   "source": [
    "# alternative approach of performing one hot encoding in Scikit Learn\n",
    "ohe = OneHotEncoder()\n",
    "ohe.fit_transform(df['CreditRating'].values.reshape(-1, 1)).toarray()"
   ]
  },
  {
   "cell_type": "code",
   "execution_count": null,
   "metadata": {},
   "outputs": [],
   "source": [
    "df = df.drop('CreditRating', axis=1)\n",
    "df"
   ]
  },
  {
   "cell_type": "code",
   "execution_count": null,
   "metadata": {},
   "outputs": [],
   "source": [
    "independent_variables = df.drop('LoanRisk', axis=1)\n",
    "\n",
    "x = independent_variables.values\n",
    "y = df['LoanRisk'].values\n",
    "\n",
    "clf = tree.DecisionTreeClassifier(criterion='gini', splitter='best')\n",
    "clf = clf.fit(x, y)\n",
    "y_pred = clf.predict(x)\n",
    "\n",
    "print('Accuracy = {}'.format(metrics.accuracy_score(y, y_pred)))"
   ]
  },
  {
   "cell_type": "code",
   "execution_count": null,
   "metadata": {},
   "outputs": [],
   "source": [
    "print('Confusion = \\n{}'.format(metrics.confusion_matrix(y, y_pred, labels=['Low','High'])))"
   ]
  },
  {
   "cell_type": "code",
   "execution_count": null,
   "metadata": {},
   "outputs": [],
   "source": [
    "dot_data = tree.export_graphviz(clf, out_file=None, feature_names=['Income','CreditRatingLow','CreditRatingModerate','CreditRatingHigh'], \n",
    "                                class_names=['High','Low'], filled=True, rounded=True, special_characters=True)\n",
    "graph = graphviz.Source(dot_data)\n",
    "graph.render(\"../data/loan-risk\")"
   ]
  }
 ],
 "metadata": {
  "kernelspec": {
   "display_name": "Python 3 (ipykernel)",
   "language": "python",
   "name": "python3"
  },
  "language_info": {
   "codemirror_mode": {
    "name": "ipython",
    "version": 3
   },
   "file_extension": ".py",
   "mimetype": "text/x-python",
   "name": "python",
   "nbconvert_exporter": "python",
   "pygments_lexer": "ipython3",
   "version": "3.9.6"
  }
 },
 "nbformat": 4,
 "nbformat_minor": 4
}
