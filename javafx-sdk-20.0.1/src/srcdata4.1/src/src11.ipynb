{
 "cells": [
  {
   "cell_type": "code",
   "execution_count": null,
   "metadata": {},
   "outputs": [],
   "source": [
    "import numpy as np\n",
    "import pandas as pd\n",
    "\n",
    "data1 = {'ball': [0,4,8,12],\n",
    "        'pen': [1,5,9,13],\n",
    "        'pencil': [2,6,10,14],\n",
    "        'paper':[3,7,11,15]}\n",
    "\n",
    "frame1 = pd.DataFrame(data1, index=['red','blue','yellow','white'])\n",
    "\n",
    "print(frame1)"
   ]
  },
  {
   "cell_type": "code",
   "execution_count": null,
   "metadata": {},
   "outputs": [],
   "source": [
    "data2 = {'mug': [0,3,6,9],\n",
    "        'pen': [1,4,7,10],\n",
    "        'ball': [2,5,8,11]}\n",
    "\n",
    "frame2 = pd.DataFrame(data2, index=['blue','green','white','yellow'])\n",
    "\n",
    "print(frame2)"
   ]
  },
  {
   "cell_type": "code",
   "execution_count": null,
   "metadata": {},
   "outputs": [],
   "source": [
    "frame3 = frame1.add(frame2)\n",
    "print(frame3)"
   ]
  }
 ],
 "metadata": {
  "kernelspec": {
   "display_name": "Python 3 (ipykernel)",
   "language": "python",
   "name": "python3"
  },
  "language_info": {
   "codemirror_mode": {
    "name": "ipython",
    "version": 3
   },
   "file_extension": ".py",
   "mimetype": "text/x-python",
   "name": "python",
   "nbconvert_exporter": "python",
   "pygments_lexer": "ipython3",
   "version": "3.9.6"
  }
 },
 "nbformat": 4,
 "nbformat_minor": 4
}
