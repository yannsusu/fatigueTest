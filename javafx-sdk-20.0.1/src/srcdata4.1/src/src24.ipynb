{
 "cells": [
  {
   "cell_type": "code",
   "execution_count": null,
   "metadata": {},
   "outputs": [],
   "source": [
    "import pandas as pd\n",
    "import matplotlib.pyplot as plt\n",
    "\n",
    "from IPython.core.display import HTML\n",
    "import sws3025 as iot"
   ]
  },
  {
   "cell_type": "code",
   "execution_count": null,
   "metadata": {},
   "outputs": [],
   "source": [
    "data = {'Name':['Bob','Jessica','Mary','John','Mel'],\n",
    "        'Absence':[3,0,1,0,8],\n",
    "        'Detention':[2,1,0,0,1],\n",
    "        'Warning':[2,1,5,1,2]}\n",
    "\n",
    "df = pd.DataFrame(data)\n",
    "df['TotalDemerits'] = df['Absence'] + df['Detention'] + df['Warning']\n",
    "df"
   ]
  },
  {
   "cell_type": "code",
   "execution_count": null,
   "metadata": {},
   "outputs": [],
   "source": [
    "plt.pie(df['TotalDemerits'], labels=df['Name'], explode=(0,0,0,0,0.15), startangle=90, autopct='%1.1f%%',)\n",
    "plt.axis('equal')\n",
    "plt.show()"
   ]
  }
 ],
 "metadata": {
  "kernelspec": {
   "display_name": "Python 3 (ipykernel)",
   "language": "python",
   "name": "python3"
  },
  "language_info": {
   "codemirror_mode": {
    "name": "ipython",
    "version": 3
   },
   "file_extension": ".py",
   "mimetype": "text/x-python",
   "name": "python",
   "nbconvert_exporter": "python",
   "pygments_lexer": "ipython3",
   "version": "3.9.6"
  }
 },
 "nbformat": 4,
 "nbformat_minor": 4
}
