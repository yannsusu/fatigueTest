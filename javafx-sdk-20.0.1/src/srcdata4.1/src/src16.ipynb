{
 "cells": [
  {
   "cell_type": "code",
   "execution_count": null,
   "metadata": {},
   "outputs": [],
   "source": [
    "import matplotlib.pyplot as plt\n",
    "\n",
    "\n",
    "\n",
    "#xmin, xmax, ymin, ymax\n",
    "plt.axis([0,5,0,20])\n",
    "plt.title('My first plot')\n",
    "\n",
    "# real plot where each pair of value (x, y) is represented by a red dot\n",
    "plt.plot([1,2,3,4], [1,4,9,16], 'ro')\n",
    "plt.show()"
   ]
  }
 ],
 "metadata": {
  "kernelspec": {
   "display_name": "Python 3 (ipykernel)",
   "language": "python",
   "name": "python3"
  },
  "language_info": {
   "codemirror_mode": {
    "name": "ipython",
    "version": 3
   },
   "file_extension": ".py",
   "mimetype": "text/x-python",
   "name": "python",
   "nbconvert_exporter": "python",
   "pygments_lexer": "ipython3",
   "version": "3.9.6"
  }
 },
 "nbformat": 4,
 "nbformat_minor": 4
}
