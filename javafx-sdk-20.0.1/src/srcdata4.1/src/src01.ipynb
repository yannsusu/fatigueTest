{
 "cells": [
  {
   "cell_type": "code",
   "execution_count": null,
   "metadata": {},
   "outputs": [],
   "source": [
    "import numpy as np\n",
    "import pandas as pd\n",
    "\n",
    "from sklearn.model_selection import train_test_split\n",
    "from sklearn import tree\n",
    "from sklearn import metrics\n",
    "\n",
    "import graphviz\n",
    "\n",
    "from IPython.core.display import HTML\n",
    "import sws3025 as iot\n",
    "\n",
    "\n",
    "\n",
    "display(HTML(\"<style>pre { white-space: pre !important; }</style>\"))\n",
    "iot.set_default_pandas_options()"
   ]
  },
  {
   "cell_type": "code",
   "execution_count": null,
   "metadata": {},
   "outputs": [],
   "source": [
    "# data prep\n",
    "class_labels = ['amphibian', 'bird', 'fish', 'insect', 'invertebrate', 'mammal', 'reptile']\n",
    "df = pd.read_csv('../data/zoo.csv', index_col=0)\n",
    "\n",
    "X = df.drop('type', axis=1).values\n",
    "y = df['type'].values\n",
    "X_train, X_test, y_train, y_test = train_test_split(X, y, train_size = 0.7, test_size = 0.3, shuffle = True, stratify = df['type'])\n",
    "\n",
    "X_headers = df.drop('type', axis=1).columns.values\n",
    "\n",
    "\n",
    "\n",
    "# modelling\n",
    "\n",
    "clf = tree.DecisionTreeClassifier(criterion='gini', splitter='best')\n",
    "\n",
    "clf = clf.fit(X_train, y_train)\n",
    "y_train_pred = clf.predict(X_train)\n",
    "\n",
    "print('Training Accuracy = {}'.format(metrics.accuracy_score(y_train, y_train_pred)))"
   ]
  },
  {
   "cell_type": "code",
   "execution_count": null,
   "metadata": {},
   "outputs": [],
   "source": [
    "print('Training Confusion = \\n{}'.format(metrics.confusion_matrix(y_train, y_train_pred, labels=class_labels)))"
   ]
  },
  {
   "cell_type": "code",
   "execution_count": null,
   "metadata": {},
   "outputs": [],
   "source": [
    "y_test_pred = clf.predict(X_test)\n",
    "\n",
    "print('Testing Accuracy = {}'.format(metrics.accuracy_score(y_test, y_test_pred)))"
   ]
  },
  {
   "cell_type": "code",
   "execution_count": null,
   "metadata": {},
   "outputs": [],
   "source": [
    "print('Testing Confusion = \\n{}'.format(metrics.confusion_matrix(y_test, y_test_pred, labels=class_labels)))"
   ]
  },
  {
   "cell_type": "code",
   "execution_count": null,
   "metadata": {},
   "outputs": [],
   "source": [
    "# export test dataset predicted result\n",
    "\n",
    "result = pd.concat([pd.DataFrame(X_test, columns=X_headers), pd.Series(y_test, name='type'), pd.Series(y_test_pred, name='pred_type')], axis=1)\n",
    "result.to_csv('../data/zoo-predict.csv')"
   ]
  },
  {
   "cell_type": "code",
   "execution_count": null,
   "metadata": {},
   "outputs": [],
   "source": [
    "# export decision tree from training dataset\n",
    "\n",
    "dot_data = tree.export_graphviz(clf, out_file=None, feature_names=X_headers, \n",
    "                                                    class_names=class_labels, \n",
    "                                                    filled=True, rounded=True, special_characters=True)\n",
    "graph = graphviz.Source(dot_data)\n",
    "graph.render(\"../data/zoo-model\")"
   ]
  }
 ],
 "metadata": {
  "kernelspec": {
   "display_name": "Python 3 (ipykernel)",
   "language": "python",
   "name": "python3"
  },
  "language_info": {
   "codemirror_mode": {
    "name": "ipython",
    "version": 3
   },
   "file_extension": ".py",
   "mimetype": "text/x-python",
   "name": "python",
   "nbconvert_exporter": "python",
   "pygments_lexer": "ipython3",
   "version": "3.9.6"
  }
 },
 "nbformat": 4,
 "nbformat_minor": 4
}
