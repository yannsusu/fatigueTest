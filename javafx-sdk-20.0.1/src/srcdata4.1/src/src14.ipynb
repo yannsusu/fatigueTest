{
 "cells": [
  {
   "cell_type": "code",
   "execution_count": null,
   "metadata": {},
   "outputs": [],
   "source": [
    "import numpy as np\n",
    "import pandas as pd\n",
    "\n",
    "csvframe = pd.read_csv('../data/myCSV_01.csv')\n",
    "print(csvframe)"
   ]
  },
  {
   "cell_type": "code",
   "execution_count": null,
   "metadata": {},
   "outputs": [],
   "source": [
    "csvframe['total'] = csvframe['white'] + csvframe['red'] + csvframe['blue'] + csvframe['green']\n",
    "csvframe['excess'] = False\n",
    "\n",
    "for i in range(len(csvframe)):\n",
    "    if csvframe.loc[i,'total'] > 15:\n",
    "        csvframe.loc[i,'excess'] = True\n",
    "\n",
    "print(csvframe)"
   ]
  },
  {
   "cell_type": "code",
   "execution_count": null,
   "metadata": {},
   "outputs": [],
   "source": [
    "csvframe = csvframe.drop('total', axis=1)\n",
    "csvframe = csvframe.drop(0, axis=0)\n",
    "\n",
    "print(csvframe)"
   ]
  }
 ],
 "metadata": {
  "kernelspec": {
   "display_name": "Python 3 (ipykernel)",
   "language": "python",
   "name": "python3"
  },
  "language_info": {
   "codemirror_mode": {
    "name": "ipython",
    "version": 3
   },
   "file_extension": ".py",
   "mimetype": "text/x-python",
   "name": "python",
   "nbconvert_exporter": "python",
   "pygments_lexer": "ipython3",
   "version": "3.9.6"
  }
 },
 "nbformat": 4,
 "nbformat_minor": 4
}
