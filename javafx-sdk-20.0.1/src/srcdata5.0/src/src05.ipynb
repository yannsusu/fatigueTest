{
 "cells": [
  {
   "cell_type": "code",
   "execution_count": null,
   "metadata": {},
   "outputs": [],
   "source": [
    "import pandas as pd\n",
    "\n",
    "from sklearn.cluster import KMeans\n",
    "from sklearn import metrics\n",
    "\n",
    "import matplotlib.pyplot as plt\n",
    "\n",
    "from IPython.core.display import HTML\n",
    "import util\n",
    "\n",
    "\n",
    "\n",
    "display(HTML(\"<style>pre { white-space: pre !important; }</style>\")),\n",
    "util.set_default_pandas_options()"
   ]
  },
  {
   "cell_type": "code",
   "execution_count": null,
   "metadata": {},
   "outputs": [],
   "source": [
    "df = pd.read_csv('../data/iris.csv')\n",
    "df_original = df\n",
    "df = df.drop('class', axis=1)\n",
    "\n",
    "X = df.values"
   ]
  },
  {
   "cell_type": "code",
   "execution_count": null,
   "metadata": {},
   "outputs": [],
   "source": [
    "range_n_clusters = [2, 3]\n",
    "\n",
    "for n_clusters in range_n_clusters:\n",
    "\n",
    "    kmeans = KMeans(n_clusters=n_clusters, random_state=0)\n",
    "    kmeans = kmeans.fit(X)\n",
    "\n",
    "    result = pd.concat([df_original, pd.DataFrame({'cluster':kmeans.labels_})], axis=1)\n",
    "    result = result.sort_values(by=['cluster'], ascending=[True])\n",
    "\n",
    "    with pd.option_context('display.max_rows', None, 'display.max_columns', None):    \n",
    "        \n",
    "        print('{}\\t{}\\t{}\\t{}\\t{}'.format('Cluster', 'sepal_length', 'sepal_width', 'petal_length', 'petal_width'))\n",
    "        print('{}'.format('-' * 80))\n",
    "        \n",
    "        for cluster in result.cluster.unique():\n",
    "            print('{:d}\\t{:.3f} ({:.3f})\\t{:.3f} ({:.3f})\\t{:.3f} ({:.3f})\\t{:.3f} ({:.3f})'.format(cluster, result[result.cluster==cluster].sepal_length.mean()\n",
    "                                                                                                            , result[result.cluster==cluster].sepal_length.std()\n",
    "                                                                                                            , result[result.cluster==cluster].sepal_width.mean()\n",
    "                                                                                                            , result[result.cluster==cluster].sepal_width.std()\n",
    "                                                                                                            , result[result.cluster==cluster].petal_length.mean()\n",
    "                                                                                                            , result[result.cluster==cluster].petal_length.std()\n",
    "                                                                                                            , result[result.cluster==cluster].petal_width.mean()\n",
    "                                                                                                            , result[result.cluster==cluster].petal_width.std()))\n",
    "        \n",
    "        print('\\n{}\\n'.format('=' * 80))\n",
    "        \n",
    "        x_axis = result.petal_length\n",
    "        y_axis = result.petal_width\n",
    "        species = result.cluster\n",
    "\n",
    "        x_axis_min, x_axis_max = x_axis.min() - .5, x_axis.max() + .5\n",
    "        y_axis_min, y_axis_max = y_axis.min() - .5, y_axis.max() + .5\n",
    "\n",
    "        # Scatterplot\n",
    "        plt.figure()\n",
    "        plt.title('Iris Dataset - Clustering By Petal Size (K={})'.format(n_clusters))\n",
    "        plt.scatter(x_axis, y_axis, c=species)\n",
    "        plt.xlabel('Petal Length')\n",
    "        plt.ylabel('Petal Width')\n",
    "        plt.xlim(x_axis_min, x_axis_max)\n",
    "        plt.ylim(y_axis_min, y_axis_max)\n",
    "        plt.xticks(())\n",
    "        plt.yticks(())\n",
    "\n",
    "plt.show()"
   ]
  }
 ],
 "metadata": {
  "kernelspec": {
   "display_name": "Python 3 (ipykernel)",
   "language": "python",
   "name": "python3"
  },
  "language_info": {
   "codemirror_mode": {
    "name": "ipython",
    "version": 3
   },
   "file_extension": ".py",
   "mimetype": "text/x-python",
   "name": "python",
   "nbconvert_exporter": "python",
   "pygments_lexer": "ipython3",
   "version": "3.9.6"
  }
 },
 "nbformat": 4,
 "nbformat_minor": 4
}
