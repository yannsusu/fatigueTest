{
 "cells": [
  {
   "cell_type": "markdown",
   "id": "06a6aa5a",
   "metadata": {},
   "source": [
    "# 使用cv识别人脸，进行开锁（该文档测试用）"
   ]
  },
  {
   "cell_type": "code",
   "execution_count": 1,
   "id": "f956f351",
   "metadata": {},
   "outputs": [
    {
     "name": "stdout",
     "output_type": "stream",
     "text": [
      "\n"
     ]
    }
   ],
   "source": [
    "#文档说明：该py使用cv识别特定人的脸，若对应，进行开锁\n",
    "\n",
    "import cv2\n",
    "import paramiko\n",
    "\n",
    "#先自动开启ssh，启动摄像头\n",
    "# SSH连接信息\n",
    "hostname = '192.168.137.32'  # 树莓派的IP地址\n",
    "port = 22  # SSH端口号，默认为22\n",
    "username = 'wwb2'  # 树莓派的用户名\n",
    "password = 'pi'  # 树莓派用户的密码\n",
    "\n",
    "# 创建SSH客户端对象\n",
    "client = paramiko.SSHClient()\n",
    "client.set_missing_host_key_policy(paramiko.AutoAddPolicy())\n",
    "\n",
    "try:\n",
    "    # 连接到树莓派\n",
    "    client.connect(hostname, port, username, password)\n",
    "    \n",
    "    # 执行sudo motion命令\n",
    "    stdin, stdout, stderr = client.exec_command('sudo motion')\n",
    "\n",
    "    # 获取命令执行结果\n",
    "    output = stdout.read().decode('utf-8')\n",
    "    print(output)\n",
    "    \n",
    "    # 关闭SSH连接\n",
    "    client.close()\n",
    "\n",
    "except paramiko.AuthenticationException:\n",
    "    print(\"认证失败，请检查用户名和密码。\")\n",
    "\n",
    "except paramiko.SSHException as ssh_err:\n",
    "    print(\"SSH连接错误: \", ssh_err)\n",
    "\n",
    "except paramiko.Exception as e:\n",
    "    print(\"错误: \", e)\n",
    "\n",
    "\n",
    "# 定义视频源的URL\n",
    "url = \"http://192.168.137.32:8081/\"#树莓派1，用于面部识别\n",
    "# url = \"http://mirror.aarnet.edu.au/pub/TED-talks/911Mothers_2010W-480p.mp4\"#测试视频用\n",
    "\n",
    "# 加载「分类器」\n",
    "faceCascade = cv2.CascadeClassifier('Cascades/haarcascade_frontalface_default.xml')\n",
    "\n",
    "# 创建视频捕获对象\n",
    "cap = cv2.VideoCapture(url)\n",
    "cap.set(3,640) # set Width\n",
    "cap.set(4,480) # set Height\n",
    "  \n",
    "# 检查视频捕获对象是否成功打开\n",
    "if not cap.isOpened():\n",
    "    print(\"无法打开视频源\")\n",
    "    exit()\n",
    "\n",
    "while True:\n",
    "    # 读取视频帧\n",
    "    ret, frame = cap.read()\n",
    "    frame = cv2.flip(frame, 0)\n",
    "    gray = cv2.cvtColor(frame, cv2.COLOR_BGR2GRAY)\n",
    "    \n",
    "    # 检查是否成功读取帧\n",
    "    if not ret:\n",
    "        print(\"无法获取视频帧\")\n",
    "        break\n",
    "\n",
    "    faces = faceCascade.detectMultiScale(\n",
    "        gray,     \n",
    "        scaleFactor=1.2,\n",
    "        minNeighbors=5,     \n",
    "        minSize=(20, 20)\n",
    "    )\n",
    " \n",
    "    for (x,y,w,h) in faces:\n",
    "        cv2.rectangle(frame,(x,y),(x+w,y+h),(255,0,0),2)\n",
    "        roi_gray = gray[y:y+h, x:x+w]\n",
    "        roi_color = frame[y:y+h, x:x+w]  \n",
    " \n",
    "    cv2.imshow('frame',frame)\n",
    "        \n",
    "    # 按下 'q' 键退出循环\n",
    "    if cv2.waitKey(1) == ord('q'):\n",
    "        break\n",
    "\n",
    "# 释放视频捕获对象和窗口\n",
    "cap.release()\n",
    "cv2.destroyAllWindows()\n",
    "    \n",
    "\n"
   ]
  },
  {
   "cell_type": "code",
   "execution_count": null,
   "id": "bf008c75",
   "metadata": {},
   "outputs": [],
   "source": []
  }
 ],
 "metadata": {
  "kernelspec": {
   "display_name": "Python 3 (ipykernel)",
   "language": "python",
   "name": "python3"
  },
  "language_info": {
   "codemirror_mode": {
    "name": "ipython",
    "version": 3
   },
   "file_extension": ".py",
   "mimetype": "text/x-python",
   "name": "python",
   "nbconvert_exporter": "python",
   "pygments_lexer": "ipython3",
   "version": "3.9.12"
  }
 },
 "nbformat": 4,
 "nbformat_minor": 5
}
